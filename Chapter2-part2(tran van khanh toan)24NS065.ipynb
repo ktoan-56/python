{
 "cells": [
  {
   "cell_type": "code",
   "execution_count": 1,
   "id": "cc662f49-9de2-45cb-8566-028ea3786aa1",
   "metadata": {},
   "outputs": [
    {
     "name": "stdin",
     "output_type": "stream",
     "text": [
      " Enter your positive integer:  9\n"
     ]
    },
    {
     "name": "stdout",
     "output_type": "stream",
     "text": [
      " This is an odd number!\n"
     ]
    }
   ],
   "source": [
    "#bài 1\n",
    "number = input(\" Enter your positive integer: \")\n",
    "if int(number)%2 == 0:\n",
    "      print(\" This is an even number!\")\n",
    "else:\n",
    "       print(\" This is an odd number!\")"
   ]
  },
  {
   "cell_type": "code",
   "execution_count": 2,
   "id": "77821111-7870-4ed1-beb5-56e3b5247037",
   "metadata": {},
   "outputs": [
    {
     "name": "stdin",
     "output_type": "stream",
     "text": [
      "Enter your string:  TOAN\n"
     ]
    },
    {
     "name": "stdout",
     "output_type": "stream",
     "text": [
      "this is an upper string \n"
     ]
    }
   ],
   "source": [
    "#bài 2\n",
    "st= input(\"Enter your string: \")\n",
    "if st.isupper():\n",
    "    print(\"this is an upper string \")\n",
    "elif st.islower():\n",
    "    print(\"this is an lower string \")\n",
    "else:\n",
    "    print(\"this string contains upper and lower character\")"
   ]
  },
  {
   "cell_type": "code",
   "execution_count": 4,
   "id": "3daaab10-dd96-4fe1-a5a5-ac0c81325dc0",
   "metadata": {},
   "outputs": [
    {
     "name": "stdin",
     "output_type": "stream",
     "text": [
      "enter you string:  hello\n",
      "enter a search string:  o\n"
     ]
    },
    {
     "name": "stdout",
     "output_type": "stream",
     "text": [
      " A search string weas found , at location: 4\n"
     ]
    }
   ],
   "source": [
    "#bài 3\n",
    "st= input(\"enter you string: \")\n",
    "st_search= input(\"enter a search string: \")\n",
    "if st_search in st:\n",
    "    print(\" A search string weas found , at location: \"+ str(st.find(st_search)))\n",
    "else:\n",
    "    print(\"Not Found\")\n"
   ]
  },
  {
   "cell_type": "code",
   "execution_count": 1,
   "id": "f70ec3f6-258b-48cb-b7ec-b8fefd2dcdc1",
   "metadata": {},
   "outputs": [
    {
     "name": "stdin",
     "output_type": "stream",
     "text": [
      "Enter the number:  5 6 7 8 9 64 2 2\n"
     ]
    },
    {
     "name": "stdout",
     "output_type": "stream",
     "text": [
      "64.0\n"
     ]
    }
   ],
   "source": [
    "#bai 4\n",
    "st= input(\"Enter the number: \")\n",
    "num_list = [float(x) for x in st.split()]\n",
    "largest = num_list[0]\n",
    "for n in num_list:\n",
    "    if n > largest:\n",
    "        largest = n\n",
    "\n",
    "print(largest)"
   ]
  },
  {
   "cell_type": "code",
   "execution_count": 2,
   "id": "bfeaf11c-7afe-4500-8ada-2a938453fc95",
   "metadata": {},
   "outputs": [
    {
     "name": "stdin",
     "output_type": "stream",
     "text": [
      "enter your letter:  a\n"
     ]
    },
    {
     "name": "stdout",
     "output_type": "stream",
     "text": [
      "is a vowel sound: a\n"
     ]
    }
   ],
   "source": [
    "#bài 26\n",
    "letter=input(\"enter your letter: \").lower()\n",
    "while len(letter) !=1 or not letter.isalpha():\n",
    "    print(\"please enter a letter\")\n",
    "    letter=input(\"enter your letter: \").lower()\n",
    "if letter in \"aeiou\":\n",
    "        print(f\"is a vowel sound: {letter}\")\n",
    "elif letter == \"y\":\n",
    "        print(f\"is a vowel sound or a consonant:{letter}\")\n",
    "else:\n",
    "        print(f\"is a consonant\")\n",
    "\n"
   ]
  },
  {
   "cell_type": "code",
   "execution_count": 1,
   "id": "854724be-1732-4c86-86f7-9afa9ee94f75",
   "metadata": {},
   "outputs": [
    {
     "name": "stdin",
     "output_type": "stream",
     "text": [
      "enter so canh cua hinh (3-10):  á\n"
     ]
    },
    {
     "name": "stdout",
     "output_type": "stream",
     "text": [
      "vui long nhap so nguyen\n"
     ]
    },
    {
     "name": "stdin",
     "output_type": "stream",
     "text": [
      "enter so canh cua hinh (3-10):  d\n"
     ]
    },
    {
     "name": "stdout",
     "output_type": "stream",
     "text": [
      "vui long nhap so nguyen\n"
     ]
    },
    {
     "name": "stdin",
     "output_type": "stream",
     "text": [
      "enter so canh cua hinh (3-10):  6\n"
     ]
    },
    {
     "name": "stdout",
     "output_type": "stream",
     "text": [
      "Hình lục giác \n"
     ]
    }
   ],
   "source": [
    "#bài 27\n",
    "shapes={\n",
    "    3: \"Hình tam giác\",\n",
    "    4: \"Hình tứ giác\",\n",
    "    5: \"Hình ngũ giác\",\n",
    "    6: \"Hình lục giác\",\n",
    "    7: \"Hình thất giác\",\n",
    "    8: \"Hình bát giác\",\n",
    "    9: \"Hình cửu giác\",\n",
    "    10: \"Hình thập giác\"\n",
    "}\n",
    "while True:\n",
    "    sides=input(\"enter so canh cua hinh (3-10): \")\n",
    "    if not sides.isdigit():\n",
    "         print(\"vui long nhap so nguyen\")\n",
    "         continue\n",
    "    sides=int(sides)\n",
    "    if sides in shapes:\n",
    "        print(f\"{shapes[sides]} \")\n",
    "        break\n",
    "    else:\n",
    "        print(\"chi ho tro 3-10\")"
   ]
  },
  {
   "cell_type": "code",
   "execution_count": 1,
   "id": "e1493336-fe49-4eda-b6f6-3dc4a1ee358a",
   "metadata": {},
   "outputs": [
    {
     "name": "stdin",
     "output_type": "stream",
     "text": [
      "nhap thang (1-12):  a\n"
     ]
    },
    {
     "name": "stdout",
     "output_type": "stream",
     "text": [
      "khong hop le \n"
     ]
    },
    {
     "name": "stdin",
     "output_type": "stream",
     "text": [
      "nhap thang (1-12):  3\n"
     ]
    },
    {
     "name": "stdout",
     "output_type": "stream",
     "text": [
      "Tháng này có 31 ngày.\n"
     ]
    }
   ],
   "source": [
    "#bài 28\n",
    "while True:\n",
    "    month = input(\"nhap thang (1-12): \")\n",
    "    if not month.isdigit():\n",
    "        print(\"khong hop le \")\n",
    "        continue\n",
    "    month=int(month)\n",
    "    match month:\n",
    "        case 1 | 3 | 5 | 7 | 8 | 10 | 12:\n",
    "            print(\"Tháng này có 31 ngày.\")\n",
    "            break\n",
    "        case 4 | 6 | 9 | 11:\n",
    "            print(\"Tháng này có 30 ngày.\")\n",
    "            break\n",
    "        case 2:\n",
    "            print(\"Tháng 2 có 28 hoặc 29 ngày.\")\n",
    "            break\n",
    "        case _:\n",
    "            print(\"Chỉ có tháng từ 1 đến 12 thôi.\")"
   ]
  },
  {
   "cell_type": "code",
   "execution_count": 2,
   "id": "716bd72e-7bd5-41f1-9acf-dd7ce27f9b35",
   "metadata": {},
   "outputs": [
    {
     "name": "stdin",
     "output_type": "stream",
     "text": [
      "enter a 3\n",
      "enter b 4\n",
      "enter c 5\n"
     ]
    },
    {
     "name": "stdout",
     "output_type": "stream",
     "text": [
      "day la tam giac thuong \n"
     ]
    }
   ],
   "source": [
    "#bai 29\n",
    "a= float(input(\"enter a\"))\n",
    "b= float(input(\"enter b\"))\n",
    "c= float(input(\"enter c\"))\n",
    "\n",
    "if a>0 and b>0 and c>0 and (a+b>c)and (b+c>a)and (a+c>b):\n",
    "    if a==b==c:\n",
    "        print(\" day la tam giac deu\")\n",
    "    elif a == b or a == c or b == c:\n",
    "        print(\"day la tam giac can\")\n",
    "    else:\n",
    "        print(\"day la tam giac thuong \")\n",
    "else:\n",
    "    print(\"3 canh khong hop le\")"
   ]
  },
  {
   "cell_type": "code",
   "execution_count": 4,
   "id": "355dadfd-f7d1-41d2-a87a-5c7c9070d325",
   "metadata": {},
   "outputs": [
    {
     "name": "stdin",
     "output_type": "stream",
     "text": [
      "enter year:  2024\n"
     ]
    },
    {
     "name": "stdout",
     "output_type": "stream",
     "text": [
      "2024 là năm nhuận.\n"
     ]
    }
   ],
   "source": [
    "#bai 30\n",
    "while True:\n",
    "    year=input(\"enter year: \")\n",
    "    if not year.isdigit():\n",
    "        print(\"Error\")\n",
    "        continue\n",
    "    year=int(year)\n",
    "\n",
    "    if year % 400 == 0:\n",
    "        print(f\"{year} là năm nhuận.\")\n",
    "    elif year % 100 == 0:\n",
    "        print(f\"{year} không phải là năm nhuận.\")\n",
    "    elif year % 4 == 0:\n",
    "        print(f\"{year} là năm nhuận.\")\n",
    "    else:\n",
    "        print(f\"{year} không phải là năm nhuận.\")\n",
    "    break"
   ]
  },
  {
   "cell_type": "code",
   "execution_count": 5,
   "id": "c2e04f95-6ff0-4aba-a658-ef959a1b2893",
   "metadata": {},
   "outputs": [
    {
     "name": "stdin",
     "output_type": "stream",
     "text": [
      " nhap chuoi ky tu  heLLo\n"
     ]
    },
    {
     "name": "stdout",
     "output_type": "stream",
     "text": [
      " ky tu dc chuyen lại: khOOr\n"
     ]
    }
   ],
   "source": [
    "#bài 31\n",
    "text= input(\" nhap chuoi ky tu \")\n",
    "result=\"\"\n",
    "\n",
    "for ky_tu in text:\n",
    "    if ky_tu.isalpha():\n",
    "        cong=3\n",
    "        if ky_tu.isupper():\n",
    "            result += chr((ord(ky_tu)- ord('A')+ cong)%26+ord('A'))\n",
    "        else:\n",
    "            result += chr((ord(ky_tu)- ord('a')+ cong)%26+ord('a'))\n",
    "    else:\n",
    "        result += ky_tu\n",
    "print(f\" ky tu dc chuyen lại: {result}\")\n"
   ]
  },
  {
   "cell_type": "code",
   "execution_count": 1,
   "id": "dcbccbc8-7950-4eac-84f7-a09e39f7888c",
   "metadata": {},
   "outputs": [
    {
     "name": "stdout",
     "output_type": "stream",
     "text": [
      "Chuong trinh ma hoa - giai ma \n",
      " \n"
     ]
    },
    {
     "name": "stdin",
     "output_type": "stream",
     "text": [
      "nhap doan ky tu ma ban muon giai ma:  hello\n",
      " nhap so ky tu dich chuyen (so nguyen):  4\n",
      "nhap a (ma hoa) hay d (giai ma):  a\n"
     ]
    },
    {
     "name": "stdout",
     "output_type": "stream",
     "text": [
      "thong diep da dc ma hoa: lipps\n"
     ]
    },
    {
     "name": "stdin",
     "output_type": "stream",
     "text": [
      "nhap q de thoat chuong trinh ( muon tiep tuc hay nhan (n) n\n"
     ]
    },
    {
     "name": "stdout",
     "output_type": "stream",
     "text": [
      "Chuong trinh ma hoa - giai ma \n",
      " \n"
     ]
    },
    {
     "name": "stdin",
     "output_type": "stream",
     "text": [
      "nhap doan ky tu ma ban muon giai ma:  kdla\n",
      " nhap so ky tu dich chuyen (so nguyen):  5\n",
      "nhap a (ma hoa) hay d (giai ma):  d\n"
     ]
    },
    {
     "name": "stdout",
     "output_type": "stream",
     "text": [
      "thong diep da dc giai ma hoa: fygv\n"
     ]
    },
    {
     "name": "stdin",
     "output_type": "stream",
     "text": [
      "nhap q de thoat chuong trinh ( muon tiep tuc hay nhan (n) q\n"
     ]
    },
    {
     "name": "stdout",
     "output_type": "stream",
     "text": [
      "bye\n"
     ]
    }
   ],
   "source": [
    "#bài 32\n",
    "def caesar(text, cong,mode=\"encode\"):\n",
    "    result=\"\"\n",
    "    if mode==\"decode\":\n",
    "        cong=-cong\n",
    "\n",
    "    for ky_tu in text:\n",
    "        if ky_tu.isalpha():\n",
    "            if ky_tu.isupper():\n",
    "                result += chr((ord(ky_tu)- ord('A')+ cong)%26+ord('A'))\n",
    "            else:\n",
    "                result += chr((ord(ky_tu)- ord('a')+ cong)%26+ord('a'))\n",
    "        else:\n",
    "            result += ky_tu\n",
    "    return result\n",
    "while True:\n",
    "    print(\"Chuong trinh ma hoa - giai ma \\n \")\n",
    "    thong_diep=input(\"nhap doan ky tu ma ban muon giai ma: \")\n",
    "\n",
    "    while True:\n",
    "        dich=input(\" nhap so ky tu dich chuyen (so nguyen): \")\n",
    "        if dich.isdigit():\n",
    "            dich=int(dich)\n",
    "            break\n",
    "        else:\n",
    "            print(\"vui long nhap lai so nguyen\")\n",
    "\n",
    "    lua_chon = input(\"nhap a (ma hoa) hay d (giai ma): \").lower()\n",
    "    if lua_chon not in [\"a\", \"d\"]:\n",
    "        print(\"khong hop le\")\n",
    "        continue\n",
    "\n",
    "    if lua_chon==\"a\":\n",
    "        ket_qua = caesar(thong_diep,dich, mode=\"encode\")\n",
    "        print(f\"thong diep da dc ma hoa: {ket_qua}\")\n",
    "    else:\n",
    "        ket_qua = caesar(thong_diep,dich, mode=\"decode\")\n",
    "        print(f\"thong diep da dc giai ma hoa: {ket_qua}\")\n",
    "\n",
    "    thoat = input(\"nhap q de thoat chuong trinh ( muon tiep tuc hay nhan (n)\")\n",
    "    if thoat.lower() == \"q\":\n",
    "        print(\"bye\")\n",
    "        break"
   ]
  },
  {
   "cell_type": "code",
   "execution_count": 2,
   "id": "8807b34a-dd4f-4459-a004-96d458cce4b0",
   "metadata": {},
   "outputs": [
    {
     "name": "stdin",
     "output_type": "stream",
     "text": [
      "enter text:  eve\n"
     ]
    },
    {
     "name": "stdout",
     "output_type": "stream",
     "text": [
      "eve is palindrome\n"
     ]
    }
   ],
   "source": [
    "#bai 33\n",
    "text= input(\"enter text: \")\n",
    "palindrome = True\n",
    "for i in range(len(text)//2):\n",
    "    if text[i] != text[-(i+1)]:\n",
    "        palindrome = False\n",
    "        break\n",
    "if palindrome:\n",
    "    print(f\"{text} is palindrome\")\n",
    "else:\n",
    "    print(f\"{text} is not palindrome\")"
   ]
  },
  {
   "cell_type": "code",
   "execution_count": 3,
   "id": "ae8ed5b6-ec11-4ec0-86d2-ef5210ef3e8a",
   "metadata": {},
   "outputs": [
    {
     "name": "stdin",
     "output_type": "stream",
     "text": [
      "nhap mot so thap phan  254\n"
     ]
    },
    {
     "name": "stdout",
     "output_type": "stream",
     "text": [
      "ket_qua=11111110\n"
     ]
    }
   ],
   "source": [
    "#bài 34\n",
    "while True:\n",
    "    so=input(\"nhap mot so thap phan \")\n",
    "    if not so.isdigit():\n",
    "        print(\"vui long nhap lai so\")\n",
    "        continue\n",
    "    so=int(so)\n",
    "    if so==0:\n",
    "        print(\" vui long nhap lai so\")\n",
    "        continue\n",
    "    ket_qua=0\n",
    "    he_so=1\n",
    "    n=so\n",
    "    while n>0:\n",
    "        du=n%2\n",
    "        ket_qua=ket_qua+du*he_so\n",
    "        he_so=he_so*10\n",
    "        n=n//2\n",
    "    print(f\"ket_qua={ket_qua}\")\n",
    "    break"
   ]
  },
  {
   "cell_type": "code",
   "execution_count": 4,
   "id": "e273b09d-516a-4e4a-9c53-50cebb83c18c",
   "metadata": {},
   "outputs": [
    {
     "name": "stdin",
     "output_type": "stream",
     "text": [
      "Enter the number:  1,2,3,4,5,6,7,8,9\n"
     ]
    },
    {
     "name": "stdout",
     "output_type": "stream",
     "text": [
      "danh sach so le [1, 3, 5, 7, 9]\n"
     ]
    }
   ],
   "source": [
    "#bai 35\n",
    "st= input(\"Enter the number: \")\n",
    "num_list = [int(x) for x in st.split(\",\")]\n",
    "\n",
    "so_le=[n for n in num_list if n %2!=0]\n",
    "print(f\"danh sach so le {so_le}\")\n",
    "\n"
   ]
  },
  {
   "cell_type": "code",
   "execution_count": 1,
   "id": "845b5d87-9c7c-4a31-b60e-ab66bda0642e",
   "metadata": {},
   "outputs": [
    {
     "name": "stdin",
     "output_type": "stream",
     "text": [
      "Enter a number: (nhap 0 de ket thuc dai so)  6\n",
      "Enter a number: (nhap 0 de ket thuc dai so)  7\n",
      "Enter a number: (nhap 0 de ket thuc dai so)  45\n",
      "Enter a number: (nhap 0 de ket thuc dai so)  3\n",
      "Enter a number: (nhap 0 de ket thuc dai so)  6\n",
      "Enter a number: (nhap 0 de ket thuc dai so)  7\n",
      "Enter a number: (nhap 0 de ket thuc dai so)  5\n",
      "Enter a number: (nhap 0 de ket thuc dai so)  0\n"
     ]
    },
    {
     "name": "stdout",
     "output_type": "stream",
     "text": [
      "danh sach so duoc xap sep lai [3, 5, 6, 6, 7, 7, 45]\n"
     ]
    }
   ],
   "source": [
    "#bai 36\n",
    "numbers=[]\n",
    "while True:\n",
    "    try:\n",
    "        n=int(input(\"Enter a number: (nhap 0 de ket thuc dai so) \"))\n",
    "        if n==0:\n",
    "            break\n",
    "        numbers.append(n)\n",
    "    except ValueError:\n",
    "        print(\"so nhap khong hop le\")\n",
    "list_number=sorted(numbers)\n",
    "print(f\"danh sach so duoc xap sep lai {list_number}\")"
   ]
  },
  {
   "cell_type": "code",
   "execution_count": 2,
   "id": "d4af9a97-cf2a-4ee1-902a-1e516331d080",
   "metadata": {},
   "outputs": [
    {
     "name": "stdout",
     "output_type": "stream",
     "text": [
      "nhap cac tu (de dong trong de ket thuc) \n"
     ]
    },
    {
     "name": "stdin",
     "output_type": "stream",
     "text": [
      " apple\n",
      " banana\n",
      " orange\n",
      " cherry\n",
      " cherry\n",
      " \n"
     ]
    },
    {
     "name": "stdout",
     "output_type": "stream",
     "text": [
      "\n",
      " da loai bo cac tu bi trung \n",
      "apple\n",
      "banana\n",
      "orange\n",
      "cherry\n"
     ]
    }
   ],
   "source": [
    "#bai 37\n",
    "words=[]\n",
    "seen=set()\n",
    "print(\"nhap cac tu (de dong trong de ket thuc) \")\n",
    "while True:\n",
    "\n",
    "    word=input()\n",
    "    if word ==\"\":\n",
    "        break\n",
    "    if word not in seen:\n",
    "        words.append(word)\n",
    "        seen.add(word)\n",
    "print(\"\\n da loai bo cac tu bi trung \")\n",
    "for word in words:\n",
    "    print(word)"
   ]
  },
  {
   "cell_type": "code",
   "execution_count": 1,
   "id": "981fa444-25e6-4fd6-a12e-e1afe61a3d41",
   "metadata": {},
   "outputs": [
    {
     "name": "stdout",
     "output_type": "stream",
     "text": [
      "nhap cac so nguyen (xuong dong de ghi them so, nhạp q để kết thuc)\n"
     ]
    },
    {
     "name": "stdin",
     "output_type": "stream",
     "text": [
      " 9\n",
      " -1\n",
      " 0\n",
      " 6\n",
      " 3\n",
      " 0\n",
      " 0\n",
      " -2\n",
      " 3\n",
      " q\n"
     ]
    },
    {
     "name": "stdout",
     "output_type": "stream",
     "text": [
      "\n",
      "ket qua\n",
      "-1 -2 0 0 0 9 6 3 3 "
     ]
    }
   ],
   "source": [
    "#bài 38\n",
    "numbers= []\n",
    "print(\"nhap cac so nguyen (xuong dong de ghi them so, nhạp q để kết thuc)\")\n",
    "while True:\n",
    "    line = input()\n",
    "    if line == \"q\" or line == \"Q\":\n",
    "        break\n",
    "    try:\n",
    "        num = int(line)\n",
    "        numbers.append(num)\n",
    "    except ValueError:\n",
    "        print(\"nhap lai\")\n",
    "\n",
    "negatives = []\n",
    "zeros = []\n",
    "positives = []\n",
    "\n",
    "\n",
    "for num in numbers:\n",
    "    if num < 0:\n",
    "        negatives.append(num)\n",
    "    elif num == 0:\n",
    "        zeros.append(num)\n",
    "    else:\n",
    "        positives.append(num)\n",
    "result = negatives + zeros + positives\n",
    "print(\"\\nket qua\")\n",
    "for num in result:\n",
    "    print(num,end=\" \")\n"
   ]
  },
  {
   "cell_type": "code",
   "execution_count": 4,
   "id": "29833b3a-75bc-4465-83c8-f6cbf9aad5b8",
   "metadata": {},
   "outputs": [
    {
     "name": "stdin",
     "output_type": "stream",
     "text": [
      "nhap so nguyen n:  8\n"
     ]
    },
    {
     "name": "stdout",
     "output_type": "stream",
     "text": [
      "1:1 2:4 3:9 4:16 5:25 6:36 7:49 8:64 "
     ]
    }
   ],
   "source": [
    "#bài 39\n",
    "n = int(input(\"nhap so nguyen n: \"))\n",
    "result = {}\n",
    "\n",
    "for i in range(1, n+1):\n",
    "    key = i\n",
    "    value = i*i\n",
    "    print(f\"{key}:{value}\",end=\" \")\n"
   ]
  },
  {
   "cell_type": "code",
   "execution_count": 3,
   "id": "1d6a9849-e8c1-466e-a94b-d8eb8b0cfa0b",
   "metadata": {},
   "outputs": [
    {
     "name": "stdout",
     "output_type": "stream",
     "text": [
      "(1, 2, 3, 4, 5)\n",
      "(6, 7, 8, 9, 10)\n"
     ]
    }
   ],
   "source": [
    "#bài 40\n",
    "tuple=(1,2,3,4,5,6,7,8,9,10)\n",
    "mid=len(tuple)//2\n",
    "print(tuple[:mid])\n",
    "print(tuple[mid:])"
   ]
  },
  {
   "cell_type": "code",
   "execution_count": null,
   "id": "d64414c0-19c5-4eb3-82ee-9f2979978a08",
   "metadata": {},
   "outputs": [],
   "source": [
    "#bai 41\n",
    "tuple=(1,2,3,4,5,6,7,8,9,10)\n",
    "for i in tuple:\n",
    "    number=int(i)\n",
    "    if number%2==0:\n",
    "        print(number, end=\",\")"
   ]
  },
  {
   "cell_type": "code",
   "execution_count": 4,
   "id": "5a4bef4a-a5f5-4c4b-9d31-c301b2c47ec3",
   "metadata": {},
   "outputs": [
    {
     "name": "stdin",
     "output_type": "stream",
     "text": [
      "enter the number 8\n"
     ]
    },
    {
     "name": "stdout",
     "output_type": "stream",
     "text": [
      "40320\n"
     ]
    }
   ],
   "source": [
    "#bai 42\n",
    "n=int(input(\"enter the number\"))\n",
    "a=1\n",
    "for i in range(1,n+1):\n",
    "   a=a*i\n",
    "print(a)"
   ]
  },
  {
   "cell_type": "code",
   "execution_count": 5,
   "id": "ac616afe-4b78-4f29-94c1-87ae32f941a8",
   "metadata": {},
   "outputs": [
    {
     "name": "stdout",
     "output_type": "stream",
     "text": [
      "s2 more than s1\n",
      "abc\n",
      "xyz\n"
     ]
    }
   ],
   "source": [
    "#bài 43\n",
    "def in_chuoi(s1 , s2):\n",
    "    if len(s1)> len(s2):\n",
    "        print(f\"s1 more than s2\")\n",
    "    elif len(s1)<len(s2):\n",
    "        print(f\"s2 more than s1\")\n",
    "    else:\n",
    "      print(s1)\n",
    "      print(s2)\n",
    "in_chuoi(\"hello\", \"xin chào\")\n",
    "in_chuoi(\"abc\", \"xyz\")\n"
   ]
  },
  {
   "cell_type": "code",
   "execution_count": 1,
   "id": "9f271961-4451-46a8-962a-cccdb5f4e2ae",
   "metadata": {},
   "outputs": [
    {
     "name": "stdout",
     "output_type": "stream",
     "text": [
      "[1, 4, 9, 16, 25, 36, 49, 64, 81, 100, 121, 144, 169, 196, 225, 256, 289, 324, 361, 400]\n",
      "None\n"
     ]
    }
   ],
   "source": [
    "#bai 44\n",
    "def danhsach():\n",
    "    binh_phuong=[]\n",
    "    for so in range (1,21):\n",
    "        binh_phuong.append(so**2)\n",
    "    print(binh_phuong)\n",
    "print(danhsach())\n"
   ]
  },
  {
   "cell_type": "code",
   "execution_count": 2,
   "id": "c2ece17c-d966-44b7-aca4-7e9cf7bb93cc",
   "metadata": {},
   "outputs": [
    {
     "name": "stdout",
     "output_type": "stream",
     "text": [
      "[4, 9, 16, 25, 36]\n",
      "None\n"
     ]
    }
   ],
   "source": [
    "#bai 45\n",
    "def danhsach():\n",
    "    binh_phuong=[]\n",
    "    for so in range (1,21):\n",
    "        binh_phuong.append(so**2)\n",
    "    print(binh_phuong[1:6])\n",
    "print(danhsach())\n",
    "\n"
   ]
  },
  {
   "cell_type": "code",
   "execution_count": 3,
   "id": "8be427c1-412b-4931-8daf-ccc3941a3946",
   "metadata": {},
   "outputs": [
    {
     "name": "stdout",
     "output_type": "stream",
     "text": [
      "[256, 289, 324, 361, 400]\n",
      "None\n"
     ]
    }
   ],
   "source": [
    "#bai 46\n",
    "def danhsach():\n",
    "    binh_phuong=[]\n",
    "    for so in range (1,21):\n",
    "        binh_phuong.append(so**2)\n",
    "    print(binh_phuong[-5:])\n",
    "print(danhsach())\n",
    "\n"
   ]
  },
  {
   "cell_type": "code",
   "execution_count": 4,
   "id": "a3b84421-0d58-4147-99c3-32fb4ffc238d",
   "metadata": {},
   "outputs": [
    {
     "name": "stdout",
     "output_type": "stream",
     "text": [
      "[36, 49, 64, 81, 100, 121, 144, 169, 196, 225, 256, 289, 324, 361, 400]\n",
      "None\n"
     ]
    }
   ],
   "source": [
    "#bai 47\n",
    "def danhsach():\n",
    "    binh_phuong=[]\n",
    "    for so in range (1,21):\n",
    "        binh_phuong.append(so**2)\n",
    "    print(binh_phuong[5:])\n",
    "print(danhsach())\n",
    "\n"
   ]
  },
  {
   "cell_type": "code",
   "execution_count": 6,
   "id": "d0031542-0da6-4be8-9905-504b34a1359a",
   "metadata": {},
   "outputs": [
    {
     "name": "stdin",
     "output_type": "stream",
     "text": [
      "nhap tham so1  3\n",
      "nhap tham so2  4\n",
      "nhap tham so3  5\n"
     ]
    },
    {
     "name": "stdout",
     "output_type": "stream",
     "text": [
      "4.0\n"
     ]
    }
   ],
   "source": [
    "#bai 48\n",
    "def trung_binh(a,b,c):\n",
    "    return (a+b+c)/3\n",
    "thamso1=int(input(\"nhap tham so1 \"))\n",
    "thamso2=int(input(\"nhap tham so2 \"))\n",
    "thamso3=int(input(\"nhap tham so3 \"))\n",
    "avg= trung_binh(thamso1,thamso2,thamso3)\n",
    "print(avg)"
   ]
  },
  {
   "cell_type": "code",
   "execution_count": 7,
   "id": "e58a321e-d2bb-4db9-88d4-78d29db7d4ad",
   "metadata": {},
   "outputs": [
    {
     "name": "stdin",
     "output_type": "stream",
     "text": [
      "nhap 1 so de kiem tra co phai so nguyen to ko:  5\n"
     ]
    },
    {
     "name": "stdout",
     "output_type": "stream",
     "text": [
      "so nguyen 5\n"
     ]
    }
   ],
   "source": [
    "#bai 49\n",
    "def so_nguyen_to(so_nguyen):\n",
    "    if so_nguyen > 1:\n",
    "        for i in range(2, int(so_nguyen**0.5)+1):\n",
    "            if so_nguyen % i == 0:\n",
    "                return False\n",
    "        return True\n",
    "    else:\n",
    "        return False\n",
    "num=int(input(\"nhap 1 so de kiem tra co phai so nguyen to ko: \"))\n",
    "if so_nguyen_to(num):\n",
    "    print(f\"so nguyen {num}\")\n",
    "else:\n",
    "    print(f\"not so nguyen {num}\")"
   ]
  },
  {
   "cell_type": "code",
   "execution_count": 8,
   "id": "2f440dfe-839e-4411-b0c6-aeae25b556eb",
   "metadata": {},
   "outputs": [
    {
     "name": "stdout",
     "output_type": "stream",
     "text": [
      "mat khau ngau nhien tu 7-10 ky tu d43i9g4G7\n"
     ]
    }
   ],
   "source": [
    "#bai 50\n",
    "import random\n",
    "def mk_random():\n",
    "    do_dai_mk=random.randint(7,10)\n",
    "    mk=\"\"\n",
    "    for i in range(do_dai_mk):\n",
    "        char=chr(random.randint(33,126))\n",
    "        mk+=char\n",
    "    return mk\n",
    "print(f\"mat khau ngau nhien tu 7-10 ky tu {mk_random()}\")"
   ]
  },
  {
   "cell_type": "code",
   "execution_count": 9,
   "id": "0816de08-dea1-4edc-a9f5-7362bd0266df",
   "metadata": {},
   "outputs": [
    {
     "name": "stdin",
     "output_type": "stream",
     "text": [
      "enter your password:  Ton67200\n"
     ]
    },
    {
     "name": "stdout",
     "output_type": "stream",
     "text": [
      "good password: Ton67200\n"
     ]
    }
   ],
   "source": [
    "#bai 51\n",
    "def good_password(password):\n",
    "    if len(password) <8:\n",
    "        return False\n",
    "    else:\n",
    "        has_upper = False\n",
    "        has_lower = False\n",
    "        has_digit = False\n",
    "        for check in password:\n",
    "            if check.isupper():\n",
    "                has_upper = True\n",
    "            elif check.islower():\n",
    "                has_lower = True\n",
    "            elif check.isdigit():\n",
    "                has_digit = True\n",
    "        if has_upper and has_lower and has_digit and has_digit:\n",
    "            return True\n",
    "        else:\n",
    "            return False\n",
    "nhap_mk=input(\"enter your password: \")\n",
    "if good_password(nhap_mk):\n",
    "    print(f\"good password: {nhap_mk}\")\n",
    "else:\n",
    "    print(f\"bad password: {nhap_mk}\")\n",
    "\n",
    "\n"
   ]
  },
  {
   "cell_type": "code",
   "execution_count": 11,
   "id": "51c3d33f-d451-4304-a25e-a44277631720",
   "metadata": {},
   "outputs": [
    {
     "name": "stdin",
     "output_type": "stream",
     "text": [
      "enter uoc so:  28\n"
     ]
    },
    {
     "name": "stdout",
     "output_type": "stream",
     "text": [
      "uoc so is : 28 uoc so\n"
     ]
    }
   ],
   "source": [
    "#bai 52\n",
    "def find_uoc_so(so):\n",
    "    if so <=1:\n",
    "        return False\n",
    "    tong_uoc_so=0\n",
    "    for i in range(1,so//2+1):\n",
    "        if so%i==0:\n",
    "            tong_uoc_so+=i\n",
    "    if tong_uoc_so==so:\n",
    "        return True\n",
    "    else:\n",
    "        return False\n",
    "nhap_uoc_so=int(input(\"enter uoc so: \"))\n",
    "if find_uoc_so(nhap_uoc_so):\n",
    "    print(f\"uoc so is : {nhap_uoc_so} uoc so\")\n",
    "else:\n",
    "    print(f\"khong phai la uoc so is : {nhap_uoc_so} uoc so\")\n"
   ]
  },
  {
   "cell_type": "code",
   "execution_count": 12,
   "id": "67f097d9-f8f3-4c6b-b9d4-9d6322d81e86",
   "metadata": {},
   "outputs": [
    {
     "name": "stdin",
     "output_type": "stream",
     "text": [
      "enter your number:  1 2 3\n"
     ]
    },
    {
     "name": "stdout",
     "output_type": "stream",
     "text": [
      "[[1], [1, 2], [1, 2, 3], [2], [2, 3], [3]]\n"
     ]
    }
   ],
   "source": [
    "#bai 53\n",
    "def all_sublists(lst):\n",
    "    sublist = []\n",
    "    n=len(lst)\n",
    "    for i in range(n):\n",
    "        for j in range(i+1,n+1):\n",
    "            sublist.append(lst[i:j])\n",
    "    return sublist\n",
    "nhap_so=input(\"enter your number: \").split()\n",
    "lst=[int(x) for x in nhap_so]\n",
    "print(all_sublists(lst))"
   ]
  },
  {
   "cell_type": "code",
   "execution_count": 1,
   "id": "74c3fd46-d930-4f34-b56d-384404a101af",
   "metadata": {},
   "outputs": [
    {
     "name": "stdin",
     "output_type": "stream",
     "text": [
      "enter works:  toan hoa mai hue \n"
     ]
    },
    {
     "name": "stdout",
     "output_type": "stream",
     "text": [
      "ket qua:  toan, hoa, mai and hue\n"
     ]
    }
   ],
   "source": [
    "#bai 54\n",
    "\n",
    "def format_list(works):\n",
    "    if not works:\n",
    "        return \"\"\n",
    "    elif len(works)==1:\n",
    "        return works[0]\n",
    "    elif len(works)==2:\n",
    "        return works[0]+\" and \"+works[1]\n",
    "    else:\n",
    "        return \", \".join(works[:-1])+f\" and {works[-1]}\"\n",
    "\n",
    "works=input(\"enter works: \").split()\n",
    "print(\"ket qua: \", format_list(works))\n"
   ]
  },
  {
   "cell_type": "code",
   "execution_count": 3,
   "id": "fbc8db2b-1a52-4070-865a-31362c23895a",
   "metadata": {},
   "outputs": [
    {
     "name": "stdin",
     "output_type": "stream",
     "text": [
      "Nhập đường dẫn tệp cần nén:  D:\\hocky_1(year_2)\\python\\pythonnnn\n",
      "Nhập tên file zip muốn tạo (vd: data.zip):  deptraiiiii.zip\n"
     ]
    },
    {
     "name": "stdout",
     "output_type": "stream",
     "text": [
      "✅ Đã nén D:\\hocky_1(year_2)\\python\\pythonnnn thành deptraiiiii.zip\n"
     ]
    }
   ],
   "source": [
    "#bai 55\n",
    "#Chương trình nén tệp\n",
    "import zipfile\n",
    "import os\n",
    "\n",
    "def compress_file(file_path, zip_name):\n",
    "    \"\"\"\n",
    "    Nén một tệp đơn lẻ vào file zip\n",
    "    :param file_path: đường dẫn đến tệp cần nén\n",
    "    :param zip_name: tên file zip muốn tạo\n",
    "    \"\"\"\n",
    "    if not os.path.exists(file_path):\n",
    "        print(\"Tệp không tồn tại!\")\n",
    "        return\n",
    "\n",
    "    with zipfile.ZipFile(zip_name, 'w', zipfile.ZIP_DEFLATED) as zipf:\n",
    "        zipf.write(file_path, os.path.basename(file_path))\n",
    "        print(f\"✅ Đã nén {file_path} thành {zip_name}\")\n",
    "\n",
    "if __name__ == \"__main__\":\n",
    "    file_path = input(\"Nhập đường dẫn tệp cần nén: \")\n",
    "    zip_name = input(\"Nhập tên file zip muốn tạo (vd: data.zip): \")\n",
    "    compress_file(file_path, zip_name)"
   ]
  },
  {
   "cell_type": "code",
   "execution_count": null,
   "id": "5f557354-490b-45b1-87bb-eb200700da42",
   "metadata": {},
   "outputs": [
    {
     "name": "stdin",
     "output_type": "stream",
     "text": [
      "Nhập đường dẫn file zip:  D:\\hocky_1(year_2)\\python\\deprai.zip\n"
     ]
    }
   ],
   "source": [
    "#Chương trình giải nén \n",
    "import zipfile\n",
    "import os\n",
    "\n",
    "def extract_zip(zip_path, extract_to):\n",
    "    \"\"\"\n",
    "    Giải nén tệp zip vào thư mục chỉ định\n",
    "    \"\"\"\n",
    "    if not os.path.exists(zip_path):\n",
    "        print(\"File zip không tồn tại!\")\n",
    "        return\n",
    "\n",
    "    with zipfile.ZipFile(zip_path, 'r') as zipf:\n",
    "        zipf.extractall(extract_to)\n",
    "        print(f\"✅ Đã giải nén {zip_path} vào thư mục {extract_to}\")\n",
    "\n",
    "if __name__ == \"__main__\":\n",
    "    zip_path = input(\"Nhập đường dẫn file zip: \")\n",
    "    extract_to = input(\"Nhập thư mục muốn giải nén tới: \")\n",
    "    extract_zip(zip_path, extract_to)\n",
    "\n"
   ]
  },
  {
   "cell_type": "code",
   "execution_count": null,
   "id": "d0d09b62-050f-402a-bc94-ba5daa9d1a60",
   "metadata": {},
   "outputs": [],
   "source": []
  }
 ],
 "metadata": {
  "kernelspec": {
   "display_name": "Python 3 (ipykernel)",
   "language": "python",
   "name": "python3"
  },
  "language_info": {
   "codemirror_mode": {
    "name": "ipython",
    "version": 3
   },
   "file_extension": ".py",
   "mimetype": "text/x-python",
   "name": "python",
   "nbconvert_exporter": "python",
   "pygments_lexer": "ipython3",
   "version": "3.13.5"
  }
 },
 "nbformat": 4,
 "nbformat_minor": 5
}
