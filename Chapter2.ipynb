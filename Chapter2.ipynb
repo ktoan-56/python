{
 "cells": [
  {
   "cell_type": "code",
   "execution_count": 4,
   "id": "35935ade-a37e-4128-8499-a9f262699fb4",
   "metadata": {},
   "outputs": [
    {
     "data": {
      "text/plain": [
       "'Bài 1. Viết chương trình nhập vào một chuỗi\\nXuất ra màn hình chuỗi ký tự hoa\\nXuất ra màn hình chuỗi ký tự có ký tự đầu là ký tự hoa\\nXuất ra màn hình chuỗi ký tự thường'"
      ]
     },
     "execution_count": 4,
     "metadata": {},
     "output_type": "execute_result"
    }
   ],
   "source": [
    "\"\"\"\n",
    "Bài 1. Viết chương trình nhập vào một chuỗi\n",
    "Xuất ra màn hình chuỗi ký tự hoa\n",
    "Xuất ra màn hình chuỗi ký tự có ký tự đầu là ký tự hoa\n",
    "Xuất ra màn hình chuỗi ký tự thường\n",
    "\"\"\"\n"
   ]
  },
  {
   "cell_type": "code",
   "execution_count": null,
   "id": "9d2f01df-e2a9-4b2c-8cc6-fc4b9af2cdce",
   "metadata": {},
   "outputs": [],
   "source": [
    "st = input(\"Enter your string:\")\n",
    "st_upper = st.upper()\n",
    "st_lower = st.lower()\n",
    "st_title = st.title()\n",
    "\n",
    "print(\"A Upper String is: \" + st_upper)\n",
    "print(\"A Lower String is : \" + st_lower)\n",
    "print(\"A Title String is : \" + st_title)"
   ]
  },
  {
   "cell_type": "code",
   "execution_count": 5,
   "id": "98e97b62-9325-4274-80fe-98c384875cbc",
   "metadata": {},
   "outputs": [
    {
     "data": {
      "text/plain": [
       "'\\nBài 2. Cho chuỗi biểu diễn địa chỉ email:   \" minhnhutvh@gmail.com\" \\nRút trích và hiển thị chuỗi \"gmail.com\" (Đây chính là  tên Host)\\n'"
      ]
     },
     "execution_count": 5,
     "metadata": {},
     "output_type": "execute_result"
    }
   ],
   "source": [
    "'''\n",
    "Bài 2. Cho chuỗi biểu diễn địa chỉ email:   \" minhnhutvh@gmail.com\" \n",
    "Rút trích và hiển thị chuỗi \"gmail.com\" (Đây chính là  tên Host)\n",
    "'''"
   ]
  },
  {
   "cell_type": "code",
   "execution_count": 3,
   "id": "2208cd36-d314-4927-9fb5-55bc689b501e",
   "metadata": {},
   "outputs": [
    {
     "name": "stdout",
     "output_type": "stream",
     "text": [
      "gmail.com\n"
     ]
    }
   ],
   "source": [
    "data = \"minhnhutvh@gmail.com\"\n",
    "position = data.find(\"@\")               \n",
    "host = data[position +1 :]\n",
    "print(host)\n"
   ]
  },
  {
   "cell_type": "code",
   "execution_count": 4,
   "id": "2411f1dd-bada-4dc7-90be-d5b14be8685d",
   "metadata": {},
   "outputs": [
    {
     "data": {
      "text/plain": [
       "'\\nBài 3. Cho chuỗi biểu diễn:  \\n        ‘minhnhutvh@gmai.com Sat Jan 5 09:14:16’\\nRút trích và hiển thị chuỗi “gmail.com”\\n'"
      ]
     },
     "execution_count": 4,
     "metadata": {},
     "output_type": "execute_result"
    }
   ],
   "source": [
    "'''\n",
    "Bài 3. Cho chuỗi biểu diễn:  \n",
    "        ‘minhnhutvh@gmai.com Sat Jan 5 09:14:16’\n",
    "Rút trích và hiển thị chuỗi “gmail.com”\n",
    "'''"
   ]
  },
  {
   "cell_type": "code",
   "execution_count": 7,
   "id": "c60f43e5-e0ba-4f2f-be62-a3df3ed218a8",
   "metadata": {},
   "outputs": [
    {
     "name": "stdout",
     "output_type": "stream",
     "text": [
      "gmail.com\n"
     ]
    }
   ],
   "source": [
    "data = \"minhnhutvh@gmail.com Sat Jan 5 09:14:16\"\n",
    "Start_position = data.find(\"@\")                #  10\n",
    "End_position = data.find(\" \", Start_position)  #  26\n",
    "host = data[Start_position +1 : End_position]\n",
    "print(host)\n"
   ]
  },
  {
   "cell_type": "code",
   "execution_count": 8,
   "id": "4a1b2728-50bc-488b-9e8d-db3b27daf173",
   "metadata": {},
   "outputs": [
    {
     "data": {
      "text/plain": [
       "' Những bài thực hành còn lại. Sinh viên tự làm'"
      ]
     },
     "execution_count": 8,
     "metadata": {},
     "output_type": "execute_result"
    }
   ],
   "source": [
    "''' Những bài thực hành còn lại. Sinh viên tự làm'''"
   ]
  },
  {
   "cell_type": "code",
   "execution_count": null,
   "id": "d7e501cf-58a4-4d4d-bc28-6c8d4b93ce7a",
   "metadata": {},
   "outputs": [],
   "source": [
    "# bài 4"
   ]
  },
  {
   "cell_type": "code",
   "execution_count": 1,
   "id": "366f623e-aa61-47aa-a460-c2e2017d659f",
   "metadata": {},
   "outputs": [
    {
     "name": "stdin",
     "output_type": "stream",
     "text": [
      "Enter your string:  i like apple\n",
      "Enter the word that needs to replace:  apple\n",
      "Enter the word after being replace:  orange\n"
     ]
    },
    {
     "name": "stdout",
     "output_type": "stream",
     "text": [
      "i like orange\n"
     ]
    }
   ],
   "source": [
    "st1= input(\"Enter your string: \")\n",
    "st2= input(\"Enter the word that needs to replace: \")\n",
    "st3= input(\"Enter the word after being replace: \")\n",
    "\n",
    "st1= st1.replace(st2,st3)\n",
    "print(st1)"
   ]
  },
  {
   "cell_type": "code",
   "execution_count": 1,
   "id": "03f69e9c-fcea-4b3d-9c56-9bb078c4935d",
   "metadata": {},
   "outputs": [
    {
     "name": "stdin",
     "output_type": "stream",
     "text": [
      "Enter your string:  python\n"
     ]
    },
    {
     "name": "stdout",
     "output_type": "stream",
     "text": [
      "First five characters are: pytho\n",
      "Last five characters are: ython\n",
      "Four strings of one line are: python python python python \n",
      "Four strings of four line are: \n",
      "python\n",
      "python\n",
      "python\n",
      "python\n",
      "\n"
     ]
    }
   ],
   "source": [
    "#bài 5\n",
    "st = input(\"Enter your string: \")\n",
    "First_five_characters = st[:5]\n",
    "Last_five_characters = st[len(st)-5:]\n",
    "Str_1_line = 4 * (st + \" \")\n",
    "Str_4_line = 4 * (st + \"\\n\")\n",
    "\n",
    "print(\"First five characters are: \" + First_five_characters)\n",
    "print(\"Last five characters are: \" + Last_five_characters)\n",
    "print(\"Four strings of one line are: \" + Str_1_line)\n",
    "print(\"Four strings of four line are: \\n\" + Str_4_line)\n"
   ]
  },
  {
   "cell_type": "code",
   "execution_count": 2,
   "id": "cdea1988-bb84-4912-8422-d3a8be888d41",
   "metadata": {},
   "outputs": [
    {
     "name": "stdin",
     "output_type": "stream",
     "text": [
      "Enter r:  5\n",
      "Enter h:  6\n"
     ]
    },
    {
     "name": "stdout",
     "output_type": "stream",
     "text": [
      "V = 471.23889803846896\n"
     ]
    }
   ],
   "source": [
    "#bài 6\n",
    "from math import pi\n",
    "\n",
    "r = float(input(\"Enter r: \"))\n",
    "h = float(input(\"Enter h: \"))\n",
    "\n",
    "V = pi * r**2 * h\n",
    "print(\"V =\", V)\n"
   ]
  },
  {
   "cell_type": "code",
   "execution_count": 3,
   "id": "4cd085f4-0ff8-4b22-bd70-906d8b039c87",
   "metadata": {},
   "outputs": [
    {
     "name": "stdin",
     "output_type": "stream",
     "text": [
      " enter a:  3\n",
      " enter b:  4\n",
      " enter c:  5\n",
      "Enter A:  30\n",
      "Enter B:  60\n",
      "Enter C:  90\n"
     ]
    },
    {
     "name": "stdout",
     "output_type": "stream",
     "text": [
      " S1=   6.0\n",
      " S2=   6.495190528383289\n",
      " S3=   4.999999999999999\n"
     ]
    }
   ],
   "source": [
    "#bài 7\n",
    "from math import sin,radians\n",
    "a= float(input(\" enter a: \"))\n",
    "b= float(input(\" enter b: \"))\n",
    "c= float(input(\" enter c: \"))\n",
    "\n",
    "A=float(input(\"Enter A: \"))\n",
    "B=float(input(\"Enter B: \"))\n",
    "C=float(input(\"Enter C: \"))\n",
    "\n",
    "A = radians(A)\n",
    "B = radians(B)\n",
    "C = radians(C)\n",
    "\n",
    "S1=0.5*a*b*sin(C)\n",
    "S2=0.5*a*c*sin(B)\n",
    "S3=0.5*b*c*sin(A)\n",
    "\n",
    "print(\" S1=  \",S1)\n",
    "print(\" S2=  \",S2)\n",
    "print(\" S3=  \",S3)"
   ]
  },
  {
   "cell_type": "code",
   "execution_count": 4,
   "id": "7c5a7064-db8f-40ed-ace3-07afa2dad4f1",
   "metadata": {},
   "outputs": [
    {
     "name": "stdin",
     "output_type": "stream",
     "text": [
      "nhap canh tam giac:   6\n"
     ]
    },
    {
     "name": "stdout",
     "output_type": "stream",
     "text": [
      "dien tich tam giac :  15.588457268119894\n"
     ]
    }
   ],
   "source": [
    "#bài 8 \n",
    "from math import *\n",
    "\n",
    "a = float(input(\"nhap canh tam giac:  \"))\n",
    "\n",
    "S = (a**2 * sqrt(3)) / 4\n",
    "\n",
    "print(\"dien tich tam giac : \",S)\n"
   ]
  },
  {
   "cell_type": "code",
   "execution_count": 1,
   "id": "f562397b-6821-474e-bab6-141d87d31857",
   "metadata": {},
   "outputs": [
    {
     "name": "stdin",
     "output_type": "stream",
     "text": [
      " enter a:  6\n",
      " enter b:  6\n",
      " enter c:  6\n"
     ]
    },
    {
     "name": "stdout",
     "output_type": "stream",
     "text": [
      " S1=   15.588457268119894\n",
      " S2=   15.588457268119894\n",
      " S3=   15.588457268119894\n"
     ]
    }
   ],
   "source": [
    "#bài 9\n",
    "from math import sin,radians\n",
    "a= float(input(\" enter a: \"))\n",
    "b= float(input(\" enter b: \"))\n",
    "c= float(input(\" enter c: \"))\n",
    "\n",
    "A=float(60)\n",
    "B=float(60)\n",
    "C=float(60)\n",
    "\n",
    "A = radians(A)\n",
    "B = radians(B)\n",
    "C = radians(C)\n",
    "\n",
    "S1=0.5*a*b*sin(C)\n",
    "S2=0.5*a*c*sin(B)\n",
    "S3=0.5*b*c*sin(A)\n",
    "\n",
    "print(\" S1=  \",S1)\n",
    "print(\" S2=  \",S2)\n",
    "print(\" S3=  \",S3)"
   ]
  },
  {
   "cell_type": "code",
   "execution_count": 1,
   "id": "ef871034-1a86-4120-a85e-db36b8f46d1a",
   "metadata": {},
   "outputs": [
    {
     "name": "stdin",
     "output_type": "stream",
     "text": [
      "nhap chieu rong cua phong:  4.5\n",
      "nhap chieu dai cua phong:  6.4\n"
     ]
    },
    {
     "name": "stdout",
     "output_type": "stream",
     "text": [
      "dien tich phong: 28.8\n"
     ]
    }
   ],
   "source": [
    "#bài 10\n",
    "width= float(input(\"nhap chieu rong cua phong: \"))\n",
    "length= float(input(\"nhap chieu dai cua phong: \"))\n",
    "S=width*length\n",
    "print(\"dien tich phong:\", S)"
   ]
  },
  {
   "cell_type": "code",
   "execution_count": 2,
   "id": "1314b46a-55eb-4f33-b77c-61087ce1a201",
   "metadata": {},
   "outputs": [
    {
     "name": "stdin",
     "output_type": "stream",
     "text": [
      "nhap chieu dai canh dong:  200\n",
      "nhap chieu rong canh dong:  100\n"
     ]
    },
    {
     "name": "stdout",
     "output_type": "stream",
     "text": [
      "dien tich canh dong theo don vi Mau Anh :  0.4591368227731864\n"
     ]
    }
   ],
   "source": [
    "#bài 11\n",
    "length=float(input(\"nhap chieu dai canh dong: \"))\n",
    "width=float(input(\"nhap chieu rong canh dong: \"))\n",
    "S=(length*width)/43560\n",
    "print(\"dien tich canh dong theo don vi Mau Anh : \",S)"
   ]
  },
  {
   "cell_type": "code",
   "execution_count": 4,
   "id": "7286a6b9-1320-42e8-af4d-b5f831718a3a",
   "metadata": {},
   "outputs": [
    {
     "name": "stdin",
     "output_type": "stream",
     "text": [
      "nhap chi phis bua an:  50000\n"
     ]
    },
    {
     "name": "stdout",
     "output_type": "stream",
     "text": [
      "tong tien: 61500.00 VND\n"
     ]
    }
   ],
   "source": [
    "#bai 12\n",
    "meal_cost=float(input(\"nhap chi phis bua an: \"))\n",
    "\n",
    "tip=meal_cost*0.18\n",
    "tax=meal_cost*0.05\n",
    "\n",
    "total=meal_cost+ tip+ tax\n",
    "print(f\"tong tien: {total:.2f} VND\")"
   ]
  },
  {
   "cell_type": "code",
   "execution_count": 5,
   "id": "231e8acd-5aff-4441-913b-73a41bb110d6",
   "metadata": {},
   "outputs": [
    {
     "name": "stdin",
     "output_type": "stream",
     "text": [
      "nhap so nguyen duong:  9\n"
     ]
    },
    {
     "name": "stdout",
     "output_type": "stream",
     "text": [
      "tong n so nguyen duong:  45\n"
     ]
    }
   ],
   "source": [
    "#bài 13\n",
    "n=int(input(\"nhap so nguyen duong: \"))\n",
    "while n<=0:\n",
    "    n=int(input(\"nhap lai so nguyen duong: \"))\n",
    "sum=(n*(n+1))//2\n",
    "print(\"tong n so nguyen duong: \",sum)"
   ]
  },
  {
   "cell_type": "code",
   "execution_count": 6,
   "id": "9cccba3a-cd93-47b6-9247-16813fd6790a",
   "metadata": {},
   "outputs": [
    {
     "name": "stdin",
     "output_type": "stream",
     "text": [
      "nhap so nguyen a:  4\n",
      "nhap so nguyen b:  5\n"
     ]
    },
    {
     "name": "stdout",
     "output_type": "stream",
     "text": [
      "Tong a + b = 9\n",
      "Hieu a - b = -1\n",
      "Tich a * b = 20\n",
      "Thuong a / b = 0.8\n",
      "Phan du a % b = 4\n",
      "log10(a) = 0.6020599913279624\n",
      "a^b = 1024.0\n"
     ]
    }
   ],
   "source": [
    "#bài 14\n",
    "from math import *\n",
    "a=int(input(\"nhap so nguyen a: \"))\n",
    "b=int(input(\"nhap so nguyen b: \"))\n",
    "\n",
    "tong=a+b\n",
    "hieu=a-b\n",
    "tich=a*b\n",
    "thuong=a/b if b!=0 else None\n",
    "phan_du=a%b if b!=0 else None\n",
    "log_a=log10(a) if a>0 else None\n",
    "luy_thua=pow(a,b)\n",
    "\n",
    "print(f\"Tong a + b = {tong}\")\n",
    "print(f\"Hieu a - b = {hieu}\")\n",
    "print(f\"Tich a * b = {tich}\")\n",
    "\n",
    "if thuong is not None:\n",
    "    print(f\"Thuong a / b = {thuong}\")\n",
    "else:\n",
    "    print(\"Thuong a / b: Khong xac dinh (b = 0)\")\n",
    "\n",
    "if phan_du is not None:\n",
    "    print(f\"Phan du a % b = {phan_du}\")\n",
    "else:\n",
    "    print(\"Phan du a % b: Khong xac dinh (b = 0)\")\n",
    "\n",
    "if log_a is not None:\n",
    "    print(f\"log10(a) = {log_a}\")\n",
    "else:\n",
    "    print(\"log10(a): Khong xac dinh (a <= 0)\")\n",
    "\n",
    "print(f\"a^b = {luy_thua}\")\n"
   ]
  },
  {
   "cell_type": "code",
   "execution_count": 7,
   "id": "95266072-ff53-428e-a2da-f4bb50c566c7",
   "metadata": {},
   "outputs": [
    {
     "name": "stdin",
     "output_type": "stream",
     "text": [
      "nhap khoi luong nuoc:  500\n",
      "nhap su thay doi nhiet do:  20\n"
     ]
    },
    {
     "name": "stdout",
     "output_type": "stream",
     "text": [
      "chi phi de nc dat nhiet do nhu yeu cau: 0.1034582458\n"
     ]
    }
   ],
   "source": [
    "#bài 15\n",
    "\n",
    "C=4.186 #nhiet dung rieng của nước\n",
    "cost_kWh= 8.9\n",
    "Joules=2.777e-7\n",
    "M=float(input(\"nhap khoi luong nuoc: \"))\n",
    "delta_T=float(input(\"nhap su thay doi nhiet do: \"))\n",
    "\n",
    "Q=M*C*delta_T # nang luong can de thay doi delat_T\n",
    "energy_kWh=Q*Joules # chuyen joules sang kWh\n",
    "\n",
    "cost= energy_kWh*cost_kWh\n",
    "print(f\"chi phi de nc dat nhiet do nhu yeu cau: {cost}\")"
   ]
  },
  {
   "cell_type": "code",
   "execution_count": 8,
   "id": "bbcbd859-e440-44a0-8d5e-e26eb281407f",
   "metadata": {},
   "outputs": [
    {
     "name": "stdin",
     "output_type": "stream",
     "text": [
      "nhap chieu cao ma tu do vat do dc tha:  10\n"
     ]
    },
    {
     "name": "stdout",
     "output_type": "stream",
     "text": [
      "toc do cuoi cung la: 14.0\n"
     ]
    }
   ],
   "source": [
    "#bài 16\n",
    "from math import *\n",
    "\n",
    "a=9.8\n",
    "v_i=0\n",
    "\n",
    "d=float(input(\"nhap chieu cao ma tu do vat do dc tha: \"))\n",
    "v_f=sqrt(v_i**2+ 2*a*d)\n",
    "print(f\"toc do cuoi cung la: {v_f}\")"
   ]
  },
  {
   "cell_type": "code",
   "execution_count": 9,
   "id": "48aed0a0-1728-45b9-ae42-4ac05c01517d",
   "metadata": {},
   "outputs": [
    {
     "name": "stdin",
     "output_type": "stream",
     "text": [
      "nhap nhiet do khong khi:  -5\n",
      "nhap toc do gio:  20\n"
     ]
    },
    {
     "name": "stdout",
     "output_type": "stream",
     "text": [
      "chi so gio lanh: -11.6\n"
     ]
    }
   ],
   "source": [
    "#bài 17\n",
    "T_a=float(input(\"nhap nhiet do khong khi: \"))\n",
    "V=float(input(\"nhap toc do gio: \"))\n",
    "\n",
    "WCI = 13.12 + 0.6215 * T_a - 11.37 * (V ** 0.16) + 0.3965 * T_a * (V ** 0.16)\n",
    "\n",
    "WCI=round(WCI,1)\n",
    "print(f\"chi so gio lanh: {WCI}\")"
   ]
  },
  {
   "cell_type": "code",
   "execution_count": null,
   "id": "cc662f49-9de2-45cb-8566-028ea3786aa1",
   "metadata": {},
   "outputs": [],
   "source": []
  }
 ],
 "metadata": {
  "kernelspec": {
   "display_name": "Python 3 (ipykernel)",
   "language": "python",
   "name": "python3"
  },
  "language_info": {
   "codemirror_mode": {
    "name": "ipython",
    "version": 3
   },
   "file_extension": ".py",
   "mimetype": "text/x-python",
   "name": "python",
   "nbconvert_exporter": "python",
   "pygments_lexer": "ipython3",
   "version": "3.13.5"
  }
 },
 "nbformat": 4,
 "nbformat_minor": 5
}
